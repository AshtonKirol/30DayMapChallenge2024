{
 "cells": [
  {
   "cell_type": "code",
   "execution_count": null,
   "metadata": {},
   "outputs": [],
   "source": [
    "import pandas as pd\n",
    "import geopandas as gpd\n",
    "import matplotlib.pyplot as plt\n",
    "from mpl_toolkits.basemap import Basemap\n",
    "import numpy as np"
   ]
  },
  {
   "cell_type": "code",
   "execution_count": null,
   "metadata": {},
   "outputs": [],
   "source": [
    "# Day 1 - Points\n",
    "# data source\n",
    "# https://github.com/jokecamp/FootballData/blob/master/other/stadiums-with-GPS-coordinates.csv\n",
    "\n",
    "# Read the CSV file\n",
    "df = pd.read_csv(\"data/stadiums-with-GPS-coordinates.csv\")\n",
    "\n",
    "# Create a GeoDataFrame from the CSV data\n",
    "gdf = gpd.GeoDataFrame(df, geometry=gpd.points_from_xy(df.Longitude, df.Latitude))\n",
    "\n",
    "# Draw the map background\n",
    "fig = plt.figure(figsize=(8, 8), dpi=150)\n",
    "m = Basemap(projection='lcc', resolution='f',\n",
    "            width=0.8E6, height=1.1E6, \n",
    "            lat_0=54.4, lon_0=-3,)\n",
    "m.etopo(scale=1, alpha=0.5)\n",
    "\n",
    "# Scatter stadium data with size reflecting capacity\n",
    "m.scatter(gdf.Longitude, gdf.Latitude, latlon=True,\n",
    "          c='goldenrod', s=(30*gdf.Capacity / gdf.Capacity.max())**2,\n",
    "          alpha=0.7, edgecolors='orangered')\n",
    "\n",
    "# Make legend with dummy points\n",
    "for a in [10000, 30000, 50000, 70000]:\n",
    "    plt.scatter([], [], c='k', alpha=0.7, s=(30*a / gdf.Capacity.max())**2,\n",
    "                label=str(int(a/1000)) + 'k')\n",
    "plt.legend(title='Capacity', scatterpoints=1, frameon=True,\n",
    "           labelspacing=1.2, loc='lower left');\n",
    "plt.title(\"UK Football Stadium Capacity\", fontdict={'family': 'serif', 'size': 16})\n",
    "\n",
    "# Add large cities to map\n",
    "# Add a point with a label\n",
    "cities = [[-0.1278, 51.5074, '  London'],\n",
    "          [-2.244644, 53.483959, '  Manchester'],\n",
    "          [-1.898575, 52.489471, '  Birmingham'],\n",
    "          [-4.251433, 55.860916, '  Glasgow'],\n",
    "          [-1.600000, 54.966667, '  Newcastle'],]\n",
    "\n",
    "for city in cities:\n",
    "    # Convert lat/lon to map coordinates\n",
    "    x, y = m(city[0], city[1])\n",
    "    m.plot(x, y, '.', c='black', markersize=8)\n",
    "    plt.text(x, y, city[2], fontsize=14, alpha=1, c='black', verticalalignment='center')\n",
    "\n",
    "x, y, arrow_length = 0.9, 0.9, 0.1\n",
    "plt.annotate('N', xy=(x, y), xytext=(x, y-arrow_length),\n",
    "            arrowprops=dict(facecolor='black', width=5, headwidth=15),\n",
    "            ha='center', va='center', fontsize=20,\n",
    "            xycoords='axes fraction')\n",
    "\n",
    "# save figure\n",
    "plt.savefig('maps/1_points.png', dpi=300, bbox_inches='tight')"
   ]
  }
 ],
 "metadata": {
  "kernelspec": {
   "display_name": "Python 3",
   "language": "python",
   "name": "python3"
  },
  "language_info": {
   "codemirror_mode": {
    "name": "ipython",
    "version": 3
   },
   "file_extension": ".py",
   "mimetype": "text/x-python",
   "name": "python",
   "nbconvert_exporter": "python",
   "pygments_lexer": "ipython3",
   "version": "3.11.1"
  }
 },
 "nbformat": 4,
 "nbformat_minor": 2
}
